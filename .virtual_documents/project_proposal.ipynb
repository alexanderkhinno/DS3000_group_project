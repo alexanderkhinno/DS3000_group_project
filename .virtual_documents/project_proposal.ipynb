








from bs4 import BeautifulSoup
import requests
import json
import pandas as pd


def api_call_game_code():
    """ This function uses the Steam App List API to extract all game codes and use it for the data
    No API Key required, takes 1-2 minutes to load

    Parameters: None
    
    Returns: 
    data (Dictoniary): Contains all App ID's and their coresponding name
    app_ids (List): List of all the ID's
    """
    url = 'https://api.steampowered.com/ISteamApps/GetAppList/v2/'
    data = requests.get(url).json()

    dict = data['applist']['apps']
    app_ids = [app['appid'] for app in dict]
    
    return dict, app_ids

def api_call_steam_chart(ids):
    """ This function uses the Steam Charts API to get all playercount data

    Parameters: 
    ids (lst): List of game ID's
    Returns:
    data: A dictionary where all game ID's have average players per month, gain and gain%, as well as peak peak players
    """
    data = {}
    for id in ids:
        url = f'https://steamcharts.com/app/{id}'
        url_text = requests.get(url).text
        
        soup = BeautifulSoup(url_text)
        table = soup.find('table', class_='common-table')

        if table is None:
            data[id] = None
            continue
        
        rows = table.find('tbody').find_all('tr')
        monthly_data = []
        for row in rows:
            cols = row.find_all('td')
            month = cols[0].text.strip()
            avg_players = cols[1].text.strip()
            gain = cols[2].text.strip()
            pct_gain = cols[3].text.strip()
            peak = cols[4].text.strip()
            monthly_data.append([month, avg_players, gain, pct_gain, peak])
        
        data[id] = monthly_data
        
    return data



def dict_to_pd(data, id_list):
    columns = ['Avg_player','Gain', '%Gain', 'Peak']
    dfs = []
    for id in id_list:
       df = pd.DataFrame(data[id], columns=columns) 
    return df
    


id_dict, id_ls = api_call_game_code()
print(id_dict[:5])

test = api_call_steam_chart([10, 20])
print(test)

data = api_call_steam_chart(id_ls)

clean_data = {k: v for k, v in data.items() if v is not None}
cleaned_ids = list(cleaned_data.keys())

result = dict_to_pd(cleaned_data, cleaned_ids)
print(result.head)



