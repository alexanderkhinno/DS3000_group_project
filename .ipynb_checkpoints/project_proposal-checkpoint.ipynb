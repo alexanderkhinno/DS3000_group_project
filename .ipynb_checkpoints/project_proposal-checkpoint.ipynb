{
 "cells": [
  {
   "cell_type": "markdown",
   "id": "8e39f8e9-8d57-45e9-a600-fa7bd4c6b1c8",
   "metadata": {},
   "source": [
    "## Phase I Project Proposal\n",
    "### Which VideoGame is Really Worth It's Money?\n",
    "\n",
    "#### Name: Alexander Khinno, DS 3000"
   ]
  },
  {
   "cell_type": "markdown",
   "id": "fdaa42f2-4a02-4586-b7a0-73b9259ffce7",
   "metadata": {},
   "source": [
    "### Introduction\n",
    "\n",
    "Is it worth it to spend money on a new game? Many games charge high prices just for people to play it for a couple of hours and get bored. Some games are free and easy to keep playing, meaning players dont have to waste anymore money. I think it would be intresting to see how a games price affects its rating and playtime, as well as its popularity. I want to find the game with the highest % of owners returning to play the game. I hypothesize free games like Dota 2, CS2, and Player Unknown Battleground to have some of the highest player counts while not having as high of a return rate or as high reviews as a small community game like for example: Realm of the Mad God (A free rougelike pixel game which is not very well known). I also want to see the relationship to games price and how well it did overtime? If someone spends $60 on a game, does that mean they are more likely to stay with it to get their 'moneys worth?' I think it would be intresting to see if any patterns emerge and helpful to find games that are actually worth there money and or time."
   ]
  },
  {
   "cell_type": "markdown",
   "id": "d32a337c-e1e3-4760-ac4b-991c896d8636",
   "metadata": {},
   "source": [
    "### Data Collection\n",
    "\n",
    "I plan to use the Steam App List API which returns a JSON file of all the steam game codes associated for each title. On the steam webpage, the difference between links is a number associated with a game, so having a list of all the game codes is neccesary for webscraping the reviews and price of the games as well as other data. Another API I would like to use would be from Steam Charts. Steam Charts measures the player count overtime and also takes the game code. Lastly, an API to track ownership of the games would be from SteamSPY, which tracks the estimated ownership of the game as well as how many users play the game for 2 weeks or forever.\n",
    "\n",
    "Below is the demonstrated code that could be used to extract some of the data: First function got all the game id's and names and the second function got all the player counts of the game for every month. I printed data showing a couple of game id's and names as well as all the monthly data of 2 games."
   ]
  },
  {
   "cell_type": "code",
   "execution_count": 1,
   "id": "11784a79-1764-4396-b740-bf028f56e673",
   "metadata": {},
   "outputs": [],
   "source": [
    "from bs4 import BeautifulSoup\n",
    "import requests\n",
    "import json\n",
    "import pandas as pd"
   ]
  },
  {
   "cell_type": "code",
   "execution_count": 3,
   "id": "06d4245f-7e5d-4442-b379-b979ce07fe28",
   "metadata": {},
   "outputs": [],
   "source": [
    "def api_call_game_code():\n",
    "    \"\"\" This function uses the Steam App List API to extract all game codes and use it for the data\n",
    "    No API Key required, takes 1-2 minutes to load\n",
    "\n",
    "    Parameters: None\n",
    "    \n",
    "    Returns: \n",
    "    data (Dictoniary): Contains all App ID's and their coresponding name\n",
    "    app_ids (List): List of all the ID's\n",
    "    \"\"\"\n",
    "    url = 'https://api.steampowered.com/ISteamApps/GetAppList/v2/'\n",
    "    data = requests.get(url).json()\n",
    "\n",
    "    dict = data['applist']['apps']\n",
    "    app_ids = [app['appid'] for app in dict]\n",
    "    \n",
    "    return dict, app_ids\n",
    "\n",
    "def api_call_steam_chart(ids):\n",
    "    \"\"\" This function uses the Steam Charts API to get all playercount data\n",
    "\n",
    "    Parameters: \n",
    "    ids (lst): List of game ID's\n",
    "    Returns:\n",
    "    data: A dictionary where all game ID's have average players per month, gain and gain%, as well as peak peak players\n",
    "    \"\"\"\n",
    "    data = {}\n",
    "    for id in ids:\n",
    "        url = f'https://steamcharts.com/app/{id}'\n",
    "        url_text = requests.get(url).text\n",
    "        \n",
    "        soup = BeautifulSoup(url_text)\n",
    "        table = soup.find('table', class_='common-table')\n",
    "\n",
    "        if table is None:\n",
    "            data[id] = None\n",
    "            continue\n",
    "        \n",
    "        rows = table.find('tbody').find_all('tr')\n",
    "        monthly_data = []\n",
    "        for row in rows:\n",
    "            cols = row.find_all('td')\n",
    "            month = cols[0].text.strip()\n",
    "            avg_players = cols[1].text.strip()\n",
    "            gain = cols[2].text.strip()\n",
    "            pct_gain = cols[3].text.strip()\n",
    "            peak = cols[4].text.strip()\n",
    "            monthly_data.append([month, avg_players, gain, pct_gain, peak])\n",
    "        \n",
    "        data[id] = monthly_data\n",
    "        \n",
    "    return data"
   ]
  },
  {
   "cell_type": "code",
   "execution_count": 5,
   "id": "d77355e4-319e-4913-a430-53baf3f315ee",
   "metadata": {},
   "outputs": [],
   "source": [
    "\n",
    "def dict_to_pd(data, id_list):\n",
    "    columns = ['Month', 'Avg_player','Gain', '%Gain', 'Peak']\n",
    "    dfs = []\n",
    "    for id in id_list:\n",
    "        df = pd.DataFrame(data[id], columns=columns) \n",
    "        df['ID'] = id\n",
    "        dfs.append(df)\n",
    "    return pd.concat(dfs, ignore_index=True)\n",
    "    "
   ]
  },
  {
   "cell_type": "code",
   "execution_count": 13,
   "id": "3737749f-7532-4e72-bb03-ccde6e671554",
   "metadata": {},
   "outputs": [
    {
     "name": "stdout",
     "output_type": "stream",
     "text": [
      "            Month Avg_player     Gain    %Gain   Peak  ID\n",
      "0    Last 30 Days    8484.33   +679.1   +8.70%  16249  10\n",
      "1  September 2025    7805.25   883.12  +12.76%  13254  10\n",
      "2     August 2025    6922.13  -449.35   -6.10%  12168  10\n",
      "3       July 2025    7371.48  -833.50  -10.16%  13951  10\n",
      "4       June 2025    8204.98  -847.53   -9.36%  15798  10\n"
     ]
    }
   ],
   "source": [
    "id_dict, id_ls = api_call_game_code()\n",
    "\n",
    "test_id = id_ls[:5]\n",
    "data = api_call_steam_chart(test_id)\n",
    "\n",
    "clean_data = {k: v for k, v in data.items() if v is not None}\n",
    "cleaned_ids = list(clean_data.keys())\n",
    "\n",
    "result = dict_to_pd(clean_data, cleaned_ids)\n",
    "print(result.head())"
   ]
  },
  {
   "cell_type": "markdown",
   "id": "a76f63c0-5b10-4dab-ac8e-2990e6637576",
   "metadata": {},
   "source": [
    "### Data Usage and Remaining Issues\n",
    "\n",
    "The above data does not include every API I want to use. I would still want to get get ownership data for each game. Another part of my plan would be to create a dataframe where the game ID, name, monthly data, and ownership data is all in one big dataframe in order for graphing and comparisons. I would also consider using numpy arrays to compare numerical data to maybe make predictions about future data, maybe to predict success of a new game based on similarity to other games (or something like that). There is tons of data to analyze and lots of possibilities so I am not worried about my data having any major issues. The only real issue is that steam's api takes all the game names and id's which might make rendering my code take a while. I could possibly remove some of the excess data or see if the API has parameters for its call so that I can limit the number of games it gives me."
   ]
  }
 ],
 "metadata": {
  "kernelspec": {
   "display_name": "Python 3 (ipykernel)",
   "language": "python",
   "name": "python3"
  },
  "language_info": {
   "codemirror_mode": {
    "name": "ipython",
    "version": 3
   },
   "file_extension": ".py",
   "mimetype": "text/x-python",
   "name": "python",
   "nbconvert_exporter": "python",
   "pygments_lexer": "ipython3",
   "version": "3.12.4"
  }
 },
 "nbformat": 4,
 "nbformat_minor": 5
}
